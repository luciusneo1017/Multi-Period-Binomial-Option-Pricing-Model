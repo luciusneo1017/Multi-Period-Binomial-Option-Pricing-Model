{
 "cells": [
  {
   "cell_type": "code",
   "execution_count": 1,
   "metadata": {},
   "outputs": [],
   "source": [
    "import numpy as np"
   ]
  },
  {
   "cell_type": "markdown",
   "metadata": {},
   "source": [
    "# Formatting the binomial tree\n",
    "\n",
    "Each node in the binomial tree can be represented using coordinates $(i,j)$, where $j$ repressents the height of the tree and $i$ represents the time-step, N represents terminal time, $u$ represents an up-tick, $d$ represents a down-tick in the underlying's value and $l$ represents the continuous dividend yield of the underlying.\n",
    "\n",
    "**Steps**\n",
    "\n",
    "We first find the price of the underlying at each node: $S_{i,j} = S_{0}u^{j}d^{i-j}$.\n",
    "\n",
    "We then calculate the price of the option at each terminal node: $Max[S_{N,j} - K, 0]$ for a call option and $Max[K - S_{N,j}, 0]$ for a put option.\n",
    "\n",
    "Finally we derive the price of option at earlier nodes with the equation: $C_{i,j} = e^{-rt}qC_{u}(1-q)C_{d} = e^{-rt}qC_{i+1,j+1}(1-q)C_{i+1,j}$ where \n",
    "$q = (e^{(r-l)t} - d)/(u-d)$."
   ]
  },
  {
   "cell_type": "code",
   "execution_count": 92,
   "metadata": {},
   "outputs": [],
   "source": [
    "def european_tree_slow(K,T,S0,r,l,N,u,d,opt):\n",
    "    dt = T/N\n",
    "    q = (np.exp((r-l)*dt)-d)/ (u-d)\n",
    "    discount_factor = np.exp(-r*dt)\n",
    "\n",
    "    # Step 1. Find the price of the underlying at each node at option maturity\n",
    "    S = np.zeros(N+1)\n",
    "    S[0] = S0 * d ** N\n",
    "    for j in range(1,N+1):\n",
    "        S[j] = S[j-1]*u/d\n",
    "    if opt == 'C':\n",
    "        # Step 2. Find the option values at each node at maturity\n",
    "        C = np.zeros(N+1)\n",
    "        for j in range(N+1):\n",
    "            C[j] = max(S[j]-K,0)\n",
    "    \n",
    "        # Step 3. Go backwards through the tree to find the option value at t = 0\n",
    "        for i in np.arange(N,0,-1):\n",
    "            for j in range(i):\n",
    "                C[j] = discount_factor * (q * C[j+1] + (1-q) * C[j])\n",
    "        return C[0]\n",
    "    elif opt == 'P':\n",
    "        # Step 2. Find the option values at each node at maturity\n",
    "        P = np.zeros(N+1)\n",
    "        for j in range(N+1):\n",
    "            P[j] = max(K-S[j],0)\n",
    "    \n",
    "        # Step 3. Go backwards through the tree to find the option value at t = 0\n",
    "        for i in np.arange(N,0,-1):\n",
    "            for j in range(i):\n",
    "                P[j] = discount_factor * (q * P[j+1] + (1-q) * P[j])\n",
    "        return P[0]\n",
    "    \n",
    "    else: \n",
    "        raise ValueError(\"Option type must be 'C' for Call or 'P' for Put\")\n",
    "\n"
   ]
  },
  {
   "cell_type": "code",
   "execution_count": 77,
   "metadata": {},
   "outputs": [],
   "source": [
    "# Initialise Constants\n",
    "K = 100\n",
    "T = 1\n",
    "S0 = 100\n",
    "r = 0.06\n",
    "l = 0\n",
    "N = 3\n",
    "u = 1.1\n",
    "d = 1/u\n"
   ]
  },
  {
   "cell_type": "code",
   "execution_count": 96,
   "metadata": {},
   "outputs": [
    {
     "data": {
      "text/plain": [
       "10.145735799928817"
      ]
     },
     "execution_count": 96,
     "metadata": {},
     "output_type": "execute_result"
    }
   ],
   "source": [
    "european_tree_slow(K,T,S0,r,l,N,u,d,opt = 'C')"
   ]
  },
  {
   "cell_type": "code",
   "execution_count": 93,
   "metadata": {},
   "outputs": [],
   "source": [
    "def european_tree_fast(K,T,S0,r,l,N,u,d,opt): # Vectorise using arrays instead of for-loops\n",
    "    dt = T/N\n",
    "    q = (np.exp((r-l)*dt)-d)/ (u-d)\n",
    "    discount_factor = np.exp(-r*dt)\n",
    "\n",
    "    if opt == 'C':\n",
    "        S = S0 * u ** (np.arange(0,N+1,1)) * d ** (np.arange(N,-1,-1))\n",
    "        C = np.maximum(S-K,np.zeros(N+1))\n",
    "        for i in np.arange(N,0,-1):\n",
    "            C = discount_factor * ( q * C[1:i+1] + (1-q) * C[0:i])\n",
    "        return C[0]\n",
    "    \n",
    "    elif opt == 'P':\n",
    "        S = S0 * u ** (np.arange(0,N+1,1)) * d ** (np.arange(N,-1,-1))\n",
    "        P = np.maximum(K-S,np.zeros(N+1))\n",
    "        for i in np.arange(N,0,-1):\n",
    "            P = discount_factor * ( q * P[1:i+1] + (1-q) * P[0:i])\n",
    "        return P[0]\n",
    "    \n",
    "    else: \n",
    "        raise ValueError(\"Option type must be 'C' for Call or 'P' for Put\")"
   ]
  },
  {
   "cell_type": "code",
   "execution_count": 97,
   "metadata": {},
   "outputs": [
    {
     "data": {
      "text/plain": [
       "10.145735799928826"
      ]
     },
     "execution_count": 97,
     "metadata": {},
     "output_type": "execute_result"
    }
   ],
   "source": [
    "european_tree_fast(K,T,S0,r,l,N,u,d,opt = 'C')"
   ]
  },
  {
   "cell_type": "code",
   "execution_count": null,
   "metadata": {},
   "outputs": [],
   "source": []
  }
 ],
 "metadata": {
  "kernelspec": {
   "display_name": "base",
   "language": "python",
   "name": "python3"
  },
  "language_info": {
   "codemirror_mode": {
    "name": "ipython",
    "version": 3
   },
   "file_extension": ".py",
   "mimetype": "text/x-python",
   "name": "python",
   "nbconvert_exporter": "python",
   "pygments_lexer": "ipython3",
   "version": "3.12.7"
  }
 },
 "nbformat": 4,
 "nbformat_minor": 2
}
